{
 "cells": [
  {
   "cell_type": "code",
   "execution_count": 1,
   "id": "d686b5e7",
   "metadata": {},
   "outputs": [],
   "source": [
    "#body mass index (BMI)\n",
    "#input weight\n",
    "#height \n",
    "#BMI (ask yourself your height)\n",
    "#weight \n",
    "#Calculate BMI\n",
    "#print BMI (my name is..., and my BMI is)"
   ]
  },
  {
   "cell_type": "code",
   "execution_count": 2,
   "id": "0e11d5fc",
   "metadata": {},
   "outputs": [],
   "source": [
    " #weight in Kgs and height in m and then its square"
   ]
  },
  {
   "cell_type": "code",
   "execution_count": 1,
   "id": "cd1b5afb",
   "metadata": {
    "scrolled": true
   },
   "outputs": [
    {
     "name": "stdout",
     "output_type": "stream",
     "text": [
      "what is your weight? 55\n"
     ]
    }
   ],
   "source": [
    "weight = input(\"what is your weight? \")"
   ]
  },
  {
   "cell_type": "code",
   "execution_count": 7,
   "id": "0fe64280",
   "metadata": {},
   "outputs": [
    {
     "data": {
      "text/plain": [
       "55.0"
      ]
     },
     "execution_count": 7,
     "metadata": {},
     "output_type": "execute_result"
    }
   ],
   "source": [
    "weight = float(weight)\n",
    "weight"
   ]
  },
  {
   "cell_type": "code",
   "execution_count": 2,
   "id": "03412ef6",
   "metadata": {},
   "outputs": [
    {
     "name": "stdout",
     "output_type": "stream",
     "text": [
      "what is your height? 1.52\n"
     ]
    }
   ],
   "source": [
    "height = input(\"what is your height? \") \n"
   ]
  },
  {
   "cell_type": "code",
   "execution_count": 6,
   "id": "a9922df2",
   "metadata": {},
   "outputs": [
    {
     "data": {
      "text/plain": [
       "1.52"
      ]
     },
     "execution_count": 6,
     "metadata": {},
     "output_type": "execute_result"
    }
   ],
   "source": [
    "height = float(height)\n",
    "height"
   ]
  },
  {
   "cell_type": "code",
   "execution_count": 3,
   "id": "e2d36c42",
   "metadata": {},
   "outputs": [
    {
     "name": "stdout",
     "output_type": "stream",
     "text": [
      "what is your name? Saadat Khan\n"
     ]
    }
   ],
   "source": [
    "name = input(\"what is your name? \")\n"
   ]
  },
  {
   "cell_type": "code",
   "execution_count": 8,
   "id": "a826debe",
   "metadata": {},
   "outputs": [
    {
     "data": {
      "text/plain": [
       "23.80540166204986"
      ]
     },
     "execution_count": 8,
     "metadata": {},
     "output_type": "execute_result"
    }
   ],
   "source": [
    "BMI = weight/height**2\n",
    "BMI"
   ]
  },
  {
   "cell_type": "code",
   "execution_count": 13,
   "id": "bad654a3",
   "metadata": {
    "scrolled": true
   },
   "outputs": [
    {
     "name": "stdout",
     "output_type": "stream",
     "text": [
      "my name is Saadat Khan and my BMI is 23.80540166204986\n"
     ]
    }
   ],
   "source": [
    "print(\"my name is\", name,\"and my BMI is\", BMI)"
   ]
  },
  {
   "cell_type": "code",
   "execution_count": null,
   "id": "2053b05d",
   "metadata": {},
   "outputs": [],
   "source": []
  }
 ],
 "metadata": {
  "kernelspec": {
   "display_name": "Python 3 (ipykernel)",
   "language": "python",
   "name": "python3"
  },
  "language_info": {
   "codemirror_mode": {
    "name": "ipython",
    "version": 3
   },
   "file_extension": ".py",
   "mimetype": "text/x-python",
   "name": "python",
   "nbconvert_exporter": "python",
   "pygments_lexer": "ipython3",
   "version": "3.9.7"
  }
 },
 "nbformat": 4,
 "nbformat_minor": 5
}
