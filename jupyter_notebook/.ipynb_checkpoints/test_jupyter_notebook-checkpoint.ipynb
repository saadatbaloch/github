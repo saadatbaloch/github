{
 "cells": [
  {
   "cell_type": "markdown",
   "id": "163d301e",
   "metadata": {},
   "source": [
    "# Python ka chilla with #baba_aammar\n",
    "## How to use jupyter Notebook\n",
    "### Basics of Python\n",
    "### **01- My first_program**\n"
   ]
  },
  {
   "cell_type": "code",
   "execution_count": 1,
   "id": "82ed1ed8",
   "metadata": {
    "scrolled": true
   },
   "outputs": [
    {
     "name": "stdout",
     "output_type": "stream",
     "text": [
      "5\n",
      "Hello World\n",
      "we are learning with aammar\n"
     ]
    }
   ],
   "source": [
    "#my_first_program in python\n",
    "print(2+3)\n",
    "print(\"Hello World\")\n",
    "print(\"we are learning with aammar\")"
   ]
  },
  {
   "cell_type": "markdown",
   "id": "9eea7a62",
   "metadata": {},
   "source": [
    "### **02- Operators**"
   ]
  },
  {
   "cell_type": "code",
   "execution_count": 2,
   "id": "746eaddf",
   "metadata": {},
   "outputs": [
    {
     "name": "stdout",
     "output_type": "stream",
     "text": [
      "3\n",
      "2\n",
      "3.0\n",
      "6\n",
      "1\n",
      "3\n",
      "8\n"
     ]
    }
   ],
   "source": [
    "print(2+1)\n",
    "print(3-1)\n",
    "print(6/2)\n",
    "print(3*2)\n",
    "print(13%2)\n",
    "print(6//2)\n",
    "print(2**3)\n",
    "\n"
   ]
  },
  {
   "cell_type": "markdown",
   "id": "5b37174d",
   "metadata": {},
   "source": [
    "*PEMDAS*\n",
    "\n",
    "*left to right sequence is Perenthesis Exponents Multiplication Addition Subtraction*\n"
   ]
  },
  {
   "cell_type": "markdown",
   "id": "9866a796",
   "metadata": {},
   "source": [
    "### 03-Strings"
   ]
  },
  {
   "cell_type": "code",
   "execution_count": 3,
   "id": "d3f74636",
   "metadata": {},
   "outputs": [
    {
     "name": "stdout",
     "output_type": "stream",
     "text": [
      "Test for single quotes\n",
      "test for double qoutes\n",
      "test for tripple quotes\n"
     ]
    }
   ],
   "source": [
    "# print(2+3)\n",
    "# print(\"Hello World\")\n",
    "# print(\"we are learning with aammar\")\n",
    "print('Test for single quotes')\n",
    "print(\"test for double qoutes\")\n",
    "print('''test for tripple quotes''')"
   ]
  },
  {
   "cell_type": "code",
   "execution_count": null,
   "id": "fe024d05",
   "metadata": {},
   "outputs": [],
   "source": []
  }
 ],
 "metadata": {
  "kernelspec": {
   "display_name": "Python 3 (ipykernel)",
   "language": "python",
   "name": "python3"
  },
  "language_info": {
   "codemirror_mode": {
    "name": "ipython",
    "version": 3
   },
   "file_extension": ".py",
   "mimetype": "text/x-python",
   "name": "python",
   "nbconvert_exporter": "python",
   "pygments_lexer": "ipython3",
   "version": "3.9.7"
  }
 },
 "nbformat": 4,
 "nbformat_minor": 5
}
